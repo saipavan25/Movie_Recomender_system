{
 "cells": [
  {
   "cell_type": "markdown",
   "id": "f4fdeac4",
   "metadata": {},
   "source": [
    "## Netflix Movie recommendation system"
   ]
  },
  {
   "cell_type": "markdown",
   "id": "cc7affb5",
   "metadata": {},
   "source": [
    "Importing all required libraries:<br>\n",
    "    Pandas for dealing with Datasets<br>\n",
    "    Matplotlib for visualisation<br>\n",
    "    Word Cloud for visualising the genres or movies in the form of a cloud<br>\n",
    "    Tfidf Vectorizer for converting text to usable vector<br>\n",
    "    linear kernel for pairwise comparision<br>"
   ]
  },
  {
   "cell_type": "code",
   "execution_count": 57,
   "id": "a1d236fa",
   "metadata": {},
   "outputs": [],
   "source": [
    "import pandas as pd\n",
    "import matplotlib.pyplot as plt\n",
    "#from wordcloud import WordCloud\n",
    "from sklearn.feature_extraction.text import TfidfVectorizer\n",
    "from sklearn.metrics.pairwise import linear_kernel\n",
    "import pickle\n",
    "import os"
   ]
  },
  {
   "cell_type": "markdown",
   "id": "f984f804",
   "metadata": {},
   "source": [
    "Importing Datasets that contains movie names and its ratings."
   ]
  },
  {
   "cell_type": "code",
   "execution_count": 58,
   "id": "4bc42daa",
   "metadata": {},
   "outputs": [],
   "source": [
    "movies=pd.read_csv('movies.csv')\n",
    "ratings=pd.read_csv('ratings.csv')"
   ]
  },
  {
   "cell_type": "markdown",
   "id": "d9efbe3f",
   "metadata": {},
   "source": [
    "A glance at movies dataset"
   ]
  },
  {
   "cell_type": "markdown",
   "id": "d8e6d19f",
   "metadata": {},
   "source": [
    "movieId - Unique Id's of Movies<br>\n",
    "title - Movie Titles<br>\n",
    "genres - Genre of the Movie."
   ]
  },
  {
   "cell_type": "code",
   "execution_count": 59,
   "id": "9c7e01c9",
   "metadata": {},
   "outputs": [
    {
     "data": {
      "text/html": [
       "<div>\n",
       "<style scoped>\n",
       "    .dataframe tbody tr th:only-of-type {\n",
       "        vertical-align: middle;\n",
       "    }\n",
       "\n",
       "    .dataframe tbody tr th {\n",
       "        vertical-align: top;\n",
       "    }\n",
       "\n",
       "    .dataframe thead th {\n",
       "        text-align: right;\n",
       "    }\n",
       "</style>\n",
       "<table border=\"1\" class=\"dataframe\">\n",
       "  <thead>\n",
       "    <tr style=\"text-align: right;\">\n",
       "      <th></th>\n",
       "      <th>movieId</th>\n",
       "      <th>title</th>\n",
       "      <th>genres</th>\n",
       "    </tr>\n",
       "  </thead>\n",
       "  <tbody>\n",
       "    <tr>\n",
       "      <th>0</th>\n",
       "      <td>1</td>\n",
       "      <td>Toy Story (1995)</td>\n",
       "      <td>Adventure|Animation|Children|Comedy|Fantasy</td>\n",
       "    </tr>\n",
       "    <tr>\n",
       "      <th>1</th>\n",
       "      <td>2</td>\n",
       "      <td>Jumanji (1995)</td>\n",
       "      <td>Adventure|Children|Fantasy</td>\n",
       "    </tr>\n",
       "    <tr>\n",
       "      <th>2</th>\n",
       "      <td>3</td>\n",
       "      <td>Grumpier Old Men (1995)</td>\n",
       "      <td>Comedy|Romance</td>\n",
       "    </tr>\n",
       "    <tr>\n",
       "      <th>3</th>\n",
       "      <td>4</td>\n",
       "      <td>Waiting to Exhale (1995)</td>\n",
       "      <td>Comedy|Drama|Romance</td>\n",
       "    </tr>\n",
       "    <tr>\n",
       "      <th>4</th>\n",
       "      <td>5</td>\n",
       "      <td>Father of the Bride Part II (1995)</td>\n",
       "      <td>Comedy</td>\n",
       "    </tr>\n",
       "  </tbody>\n",
       "</table>\n",
       "</div>"
      ],
      "text/plain": [
       "   movieId                               title  \\\n",
       "0        1                    Toy Story (1995)   \n",
       "1        2                      Jumanji (1995)   \n",
       "2        3             Grumpier Old Men (1995)   \n",
       "3        4            Waiting to Exhale (1995)   \n",
       "4        5  Father of the Bride Part II (1995)   \n",
       "\n",
       "                                        genres  \n",
       "0  Adventure|Animation|Children|Comedy|Fantasy  \n",
       "1                   Adventure|Children|Fantasy  \n",
       "2                               Comedy|Romance  \n",
       "3                         Comedy|Drama|Romance  \n",
       "4                                       Comedy  "
      ]
     },
     "execution_count": 59,
     "metadata": {},
     "output_type": "execute_result"
    }
   ],
   "source": [
    "movies.head()"
   ]
  },
  {
   "cell_type": "markdown",
   "id": "964c2168",
   "metadata": {},
   "source": [
    "A glance at ratings dataset"
   ]
  },
  {
   "cell_type": "markdown",
   "id": "675c6f11",
   "metadata": {},
   "source": [
    "userId - User's Unique ID <br>\n",
    "movieId - User rated Movie<br>\n",
    "rating - Rating given by the User<br>\n",
    "timestamp - Time of Rating"
   ]
  },
  {
   "cell_type": "code",
   "execution_count": 60,
   "id": "5c791ff8",
   "metadata": {},
   "outputs": [
    {
     "data": {
      "text/html": [
       "<div>\n",
       "<style scoped>\n",
       "    .dataframe tbody tr th:only-of-type {\n",
       "        vertical-align: middle;\n",
       "    }\n",
       "\n",
       "    .dataframe tbody tr th {\n",
       "        vertical-align: top;\n",
       "    }\n",
       "\n",
       "    .dataframe thead th {\n",
       "        text-align: right;\n",
       "    }\n",
       "</style>\n",
       "<table border=\"1\" class=\"dataframe\">\n",
       "  <thead>\n",
       "    <tr style=\"text-align: right;\">\n",
       "      <th></th>\n",
       "      <th>userId</th>\n",
       "      <th>movieId</th>\n",
       "      <th>rating</th>\n",
       "      <th>timestamp</th>\n",
       "    </tr>\n",
       "  </thead>\n",
       "  <tbody>\n",
       "    <tr>\n",
       "      <th>0</th>\n",
       "      <td>1</td>\n",
       "      <td>16</td>\n",
       "      <td>4.0</td>\n",
       "      <td>1217897793</td>\n",
       "    </tr>\n",
       "    <tr>\n",
       "      <th>1</th>\n",
       "      <td>1</td>\n",
       "      <td>24</td>\n",
       "      <td>1.5</td>\n",
       "      <td>1217895807</td>\n",
       "    </tr>\n",
       "    <tr>\n",
       "      <th>2</th>\n",
       "      <td>1</td>\n",
       "      <td>32</td>\n",
       "      <td>4.0</td>\n",
       "      <td>1217896246</td>\n",
       "    </tr>\n",
       "    <tr>\n",
       "      <th>3</th>\n",
       "      <td>1</td>\n",
       "      <td>47</td>\n",
       "      <td>4.0</td>\n",
       "      <td>1217896556</td>\n",
       "    </tr>\n",
       "    <tr>\n",
       "      <th>4</th>\n",
       "      <td>1</td>\n",
       "      <td>50</td>\n",
       "      <td>4.0</td>\n",
       "      <td>1217896523</td>\n",
       "    </tr>\n",
       "  </tbody>\n",
       "</table>\n",
       "</div>"
      ],
      "text/plain": [
       "   userId  movieId  rating   timestamp\n",
       "0       1       16     4.0  1217897793\n",
       "1       1       24     1.5  1217895807\n",
       "2       1       32     4.0  1217896246\n",
       "3       1       47     4.0  1217896556\n",
       "4       1       50     4.0  1217896523"
      ]
     },
     "execution_count": 60,
     "metadata": {},
     "output_type": "execute_result"
    }
   ],
   "source": [
    "ratings.head()"
   ]
  },
  {
   "cell_type": "markdown",
   "id": "de650945",
   "metadata": {},
   "source": [
    "Information of Movies Dataset"
   ]
  },
  {
   "cell_type": "code",
   "execution_count": 61,
   "id": "b1f063ea",
   "metadata": {},
   "outputs": [
    {
     "name": "stdout",
     "output_type": "stream",
     "text": [
      "<class 'pandas.core.frame.DataFrame'>\n",
      "RangeIndex: 10329 entries, 0 to 10328\n",
      "Data columns (total 3 columns):\n",
      " #   Column   Non-Null Count  Dtype \n",
      "---  ------   --------------  ----- \n",
      " 0   movieId  10329 non-null  int64 \n",
      " 1   title    10329 non-null  object\n",
      " 2   genres   10329 non-null  object\n",
      "dtypes: int64(1), object(2)\n",
      "memory usage: 242.2+ KB\n"
     ]
    }
   ],
   "source": [
    "movies.info()"
   ]
  },
  {
   "cell_type": "markdown",
   "id": "02cffca5",
   "metadata": {},
   "source": [
    "Information of Ratings Dataset."
   ]
  },
  {
   "cell_type": "code",
   "execution_count": 62,
   "id": "8cd9bc4a",
   "metadata": {
    "scrolled": true
   },
   "outputs": [
    {
     "name": "stdout",
     "output_type": "stream",
     "text": [
      "<class 'pandas.core.frame.DataFrame'>\n",
      "RangeIndex: 105339 entries, 0 to 105338\n",
      "Data columns (total 4 columns):\n",
      " #   Column     Non-Null Count   Dtype  \n",
      "---  ------     --------------   -----  \n",
      " 0   userId     105339 non-null  int64  \n",
      " 1   movieId    105339 non-null  int64  \n",
      " 2   rating     105339 non-null  float64\n",
      " 3   timestamp  105339 non-null  int64  \n",
      "dtypes: float64(1), int64(3)\n",
      "memory usage: 3.2 MB\n"
     ]
    }
   ],
   "source": [
    "ratings.info()"
   ]
  },
  {
   "cell_type": "code",
   "execution_count": 63,
   "id": "7e116940",
   "metadata": {},
   "outputs": [],
   "source": [
    "genres=[]\n",
    "for genre in movies.genres:   \n",
    "    x=genre.split('|')\n",
    "    for i in x:\n",
    "         if i not in genres:\n",
    "            genres.append(str(i))\n",
    "genres=str(genres)    \n",
    "movie_title=[]\n",
    "for title in movies.title:\n",
    "    movie_title.append(title[0:-7])\n",
    "movie_title=str(movie_title)   "
   ]
  },
  {
   "cell_type": "markdown",
   "id": "8bf0e5ca",
   "metadata": {},
   "source": [
    "Combining Two Datasets into one"
   ]
  },
  {
   "cell_type": "code",
   "execution_count": 64,
   "id": "d20016a7",
   "metadata": {},
   "outputs": [],
   "source": [
    "df=pd.merge(ratings,movies, how='left',on='movieId')\n",
    "df.head()\n",
    "df.to_csv('final_data.csv')"
   ]
  },
  {
   "cell_type": "markdown",
   "id": "950864bb",
   "metadata": {},
   "source": [
    "Grouping Dataset on Title and Rating"
   ]
  },
  {
   "cell_type": "code",
   "execution_count": 65,
   "id": "ee214f37",
   "metadata": {},
   "outputs": [
    {
     "data": {
      "text/html": [
       "<div>\n",
       "<style scoped>\n",
       "    .dataframe tbody tr th:only-of-type {\n",
       "        vertical-align: middle;\n",
       "    }\n",
       "\n",
       "    .dataframe tbody tr th {\n",
       "        vertical-align: top;\n",
       "    }\n",
       "\n",
       "    .dataframe thead th {\n",
       "        text-align: right;\n",
       "    }\n",
       "</style>\n",
       "<table border=\"1\" class=\"dataframe\">\n",
       "  <thead>\n",
       "    <tr style=\"text-align: right;\">\n",
       "      <th></th>\n",
       "      <th>rating</th>\n",
       "    </tr>\n",
       "    <tr>\n",
       "      <th>title</th>\n",
       "      <th></th>\n",
       "    </tr>\n",
       "  </thead>\n",
       "  <tbody>\n",
       "    <tr>\n",
       "      <th>'71 (2014)</th>\n",
       "      <td>3.5</td>\n",
       "    </tr>\n",
       "    <tr>\n",
       "      <th>'Hellboy': The Seeds of Creation (2004)</th>\n",
       "      <td>3.0</td>\n",
       "    </tr>\n",
       "    <tr>\n",
       "      <th>'Round Midnight (1986)</th>\n",
       "      <td>2.5</td>\n",
       "    </tr>\n",
       "    <tr>\n",
       "      <th>'Til There Was You (1997)</th>\n",
       "      <td>12.0</td>\n",
       "    </tr>\n",
       "    <tr>\n",
       "      <th>'burbs, The (1989)</th>\n",
       "      <td>62.5</td>\n",
       "    </tr>\n",
       "  </tbody>\n",
       "</table>\n",
       "</div>"
      ],
      "text/plain": [
       "                                         rating\n",
       "title                                          \n",
       "'71 (2014)                                  3.5\n",
       "'Hellboy': The Seeds of Creation (2004)     3.0\n",
       "'Round Midnight (1986)                      2.5\n",
       "'Til There Was You (1997)                  12.0\n",
       "'burbs, The (1989)                         62.5"
      ]
     },
     "execution_count": 65,
     "metadata": {},
     "output_type": "execute_result"
    }
   ],
   "source": [
    "df1=df.groupby(['title'])[['rating']].sum()\n",
    "df1.head()"
   ]
  },
  {
   "cell_type": "markdown",
   "id": "a827b191",
   "metadata": {},
   "source": [
    "Top 20 movies with highest Rating."
   ]
  },
  {
   "cell_type": "code",
   "execution_count": 66,
   "id": "d207f7ea",
   "metadata": {},
   "outputs": [
    {
     "data": {
      "text/html": [
       "<div>\n",
       "<style scoped>\n",
       "    .dataframe tbody tr th:only-of-type {\n",
       "        vertical-align: middle;\n",
       "    }\n",
       "\n",
       "    .dataframe tbody tr th {\n",
       "        vertical-align: top;\n",
       "    }\n",
       "\n",
       "    .dataframe thead th {\n",
       "        text-align: right;\n",
       "    }\n",
       "</style>\n",
       "<table border=\"1\" class=\"dataframe\">\n",
       "  <thead>\n",
       "    <tr style=\"text-align: right;\">\n",
       "      <th></th>\n",
       "      <th>rating</th>\n",
       "    </tr>\n",
       "    <tr>\n",
       "      <th>title</th>\n",
       "      <th></th>\n",
       "    </tr>\n",
       "  </thead>\n",
       "  <tbody>\n",
       "    <tr>\n",
       "      <th>Shawshank Redemption, The (1994)</th>\n",
       "      <td>1372.0</td>\n",
       "    </tr>\n",
       "    <tr>\n",
       "      <th>Pulp Fiction (1994)</th>\n",
       "      <td>1352.0</td>\n",
       "    </tr>\n",
       "    <tr>\n",
       "      <th>Forrest Gump (1994)</th>\n",
       "      <td>1287.0</td>\n",
       "    </tr>\n",
       "    <tr>\n",
       "      <th>Silence of the Lambs, The (1991)</th>\n",
       "      <td>1216.5</td>\n",
       "    </tr>\n",
       "    <tr>\n",
       "      <th>Star Wars: Episode IV - A New Hope (1977)</th>\n",
       "      <td>1143.5</td>\n",
       "    </tr>\n",
       "  </tbody>\n",
       "</table>\n",
       "</div>"
      ],
      "text/plain": [
       "                                           rating\n",
       "title                                            \n",
       "Shawshank Redemption, The (1994)           1372.0\n",
       "Pulp Fiction (1994)                        1352.0\n",
       "Forrest Gump (1994)                        1287.0\n",
       "Silence of the Lambs, The (1991)           1216.5\n",
       "Star Wars: Episode IV - A New Hope (1977)  1143.5"
      ]
     },
     "execution_count": 66,
     "metadata": {},
     "output_type": "execute_result"
    }
   ],
   "source": [
    "high_rated=df1.nlargest(20,'rating')\n",
    "high_rated.head()"
   ]
  },
  {
   "cell_type": "markdown",
   "id": "77e0289e",
   "metadata": {},
   "source": [
    "Bar graph of 20 Movies with highest recommendation"
   ]
  },
  {
   "cell_type": "code",
   "execution_count": 67,
   "id": "51c9c68f",
   "metadata": {},
   "outputs": [
    {
     "data": {
      "text/plain": [
       "<BarContainer object of 20 artists>"
      ]
     },
     "execution_count": 67,
     "metadata": {},
     "output_type": "execute_result"
    },
    {
     "data": {
      "image/png": "[encoded data removed]",
      "text/plain": [
       "<Figure size 720x360 with 1 Axes>"
      ]
     },
     "metadata": {
      "needs_background": "light"
     },
     "output_type": "display_data"
    }
   ],
   "source": [
    "plt.figure(figsize=(10,5))\n",
    "plt.title('Top 20 movies with highest rating',fontsize=20)\n",
    "colors=['red','yellow','orange','green','magenta','cyan','blue','lightgreen','skyblue','purple']\n",
    "plt.ylabel('ratings',fontsize=15)\n",
    "plt.xticks(fontsize=10,rotation=90)\n",
    "plt.xlabel('movies title',fontsize=15)\n",
    "plt.yticks(fontsize=10)\n",
    "plt.bar(high_rated.index,high_rated['rating'],color='black')"
   ]
  },
  {
   "cell_type": "markdown",
   "id": "9a630b3b",
   "metadata": {},
   "source": [
    "Count of Number of people rated a movie"
   ]
  },
  {
   "cell_type": "code",
   "execution_count": 68,
   "id": "467407a5",
   "metadata": {
    "scrolled": true
   },
   "outputs": [
    {
     "data": {
      "text/html": [
       "<div>\n",
       "<style scoped>\n",
       "    .dataframe tbody tr th:only-of-type {\n",
       "        vertical-align: middle;\n",
       "    }\n",
       "\n",
       "    .dataframe tbody tr th {\n",
       "        vertical-align: top;\n",
       "    }\n",
       "\n",
       "    .dataframe thead th {\n",
       "        text-align: right;\n",
       "    }\n",
       "</style>\n",
       "<table border=\"1\" class=\"dataframe\">\n",
       "  <thead>\n",
       "    <tr style=\"text-align: right;\">\n",
       "      <th></th>\n",
       "      <th>rating</th>\n",
       "    </tr>\n",
       "    <tr>\n",
       "      <th>title</th>\n",
       "      <th></th>\n",
       "    </tr>\n",
       "  </thead>\n",
       "  <tbody>\n",
       "    <tr>\n",
       "      <th>'71 (2014)</th>\n",
       "      <td>1</td>\n",
       "    </tr>\n",
       "    <tr>\n",
       "      <th>'Hellboy': The Seeds of Creation (2004)</th>\n",
       "      <td>1</td>\n",
       "    </tr>\n",
       "    <tr>\n",
       "      <th>'Round Midnight (1986)</th>\n",
       "      <td>1</td>\n",
       "    </tr>\n",
       "    <tr>\n",
       "      <th>'Til There Was You (1997)</th>\n",
       "      <td>3</td>\n",
       "    </tr>\n",
       "    <tr>\n",
       "      <th>'burbs, The (1989)</th>\n",
       "      <td>20</td>\n",
       "    </tr>\n",
       "  </tbody>\n",
       "</table>\n",
       "</div>"
      ],
      "text/plain": [
       "                                         rating\n",
       "title                                          \n",
       "'71 (2014)                                    1\n",
       "'Hellboy': The Seeds of Creation (2004)       1\n",
       "'Round Midnight (1986)                        1\n",
       "'Til There Was You (1997)                     3\n",
       "'burbs, The (1989)                           20"
      ]
     },
     "execution_count": 68,
     "metadata": {},
     "output_type": "execute_result"
    }
   ],
   "source": [
    "df2=df.groupby('title')[['rating']].count()\n",
    "df2.head()"
   ]
  },
  {
   "cell_type": "markdown",
   "id": "78ce9429",
   "metadata": {},
   "source": [
    "Movies with most people rating it"
   ]
  },
  {
   "cell_type": "code",
   "execution_count": 69,
   "id": "481176a0",
   "metadata": {},
   "outputs": [
    {
     "data": {
      "text/html": [
       "<div>\n",
       "<style scoped>\n",
       "    .dataframe tbody tr th:only-of-type {\n",
       "        vertical-align: middle;\n",
       "    }\n",
       "\n",
       "    .dataframe tbody tr th {\n",
       "        vertical-align: top;\n",
       "    }\n",
       "\n",
       "    .dataframe thead th {\n",
       "        text-align: right;\n",
       "    }\n",
       "</style>\n",
       "<table border=\"1\" class=\"dataframe\">\n",
       "  <thead>\n",
       "    <tr style=\"text-align: right;\">\n",
       "      <th></th>\n",
       "      <th>rating</th>\n",
       "    </tr>\n",
       "    <tr>\n",
       "      <th>title</th>\n",
       "      <th></th>\n",
       "    </tr>\n",
       "  </thead>\n",
       "  <tbody>\n",
       "    <tr>\n",
       "      <th>Pulp Fiction (1994)</th>\n",
       "      <td>325</td>\n",
       "    </tr>\n",
       "    <tr>\n",
       "      <th>Forrest Gump (1994)</th>\n",
       "      <td>311</td>\n",
       "    </tr>\n",
       "    <tr>\n",
       "      <th>Shawshank Redemption, The (1994)</th>\n",
       "      <td>308</td>\n",
       "    </tr>\n",
       "    <tr>\n",
       "      <th>Jurassic Park (1993)</th>\n",
       "      <td>294</td>\n",
       "    </tr>\n",
       "    <tr>\n",
       "      <th>Silence of the Lambs, The (1991)</th>\n",
       "      <td>290</td>\n",
       "    </tr>\n",
       "  </tbody>\n",
       "</table>\n",
       "</div>"
      ],
      "text/plain": [
       "                                  rating\n",
       "title                                   \n",
       "Pulp Fiction (1994)                  325\n",
       "Forrest Gump (1994)                  311\n",
       "Shawshank Redemption, The (1994)     308\n",
       "Jurassic Park (1993)                 294\n",
       "Silence of the Lambs, The (1991)     290"
      ]
     },
     "execution_count": 69,
     "metadata": {},
     "output_type": "execute_result"
    }
   ],
   "source": [
    "rating_count_20=df2.nlargest(20,'rating')\n",
    "rating_count_20.head()"
   ]
  },
  {
   "cell_type": "markdown",
   "id": "0dc76346",
   "metadata": {},
   "source": [
    "Bar graph of 20 Movies with most peoplr rating"
   ]
  },
  {
   "cell_type": "code",
   "execution_count": 70,
   "id": "94bb876d",
   "metadata": {},
   "outputs": [
    {
     "data": {
      "text/plain": [
       "<BarContainer object of 20 artists>"
      ]
     },
     "execution_count": 70,
     "metadata": {},
     "output_type": "execute_result"
    },
    {
     "data": {
      "image/png": "[encoded data removed]",
      "text/plain": [
       "<Figure size 720x360 with 1 Axes>"
      ]
     },
     "metadata": {
      "needs_background": "light"
     },
     "output_type": "display_data"
    }
   ],
   "source": [
    "plt.figure(figsize=(10,5))\n",
    "plt.title('Top 20 movies with highest number of ratings',fontsize=20)\n",
    "plt.xticks(fontsize=10,rotation=90)\n",
    "plt.yticks(fontsize=10)\n",
    "plt.xlabel('movies title',fontsize=15)\n",
    "plt.ylabel('ratings',fontsize=15)\n",
    "\n",
    "plt.bar(rating_count_20.index,rating_count_20.rating,color='black')"
   ]
  },
  {
   "cell_type": "markdown",
   "id": "cc9e6bd2",
   "metadata": {},
   "source": [
    "Using Tfidf Vectorizer over genres of the Movies"
   ]
  },
  {
   "cell_type": "code",
   "execution_count": 73,
   "id": "8264cc27",
   "metadata": {},
   "outputs": [
    {
     "name": "stdout",
     "output_type": "stream",
     "text": [
      "TfidfVectorizer()\n"
     ]
    }
   ],
   "source": [
    "cv=TfidfVectorizer()\n",
    "transformer=cv.fit(movies['genres'])\n",
    "print(transformer)\n",
    "#tfidf_matrix=cv.fit_transform(movies['genres'])\n"
   ]
  },
  {
   "cell_type": "code",
   "execution_count": 72,
   "id": "8c49191d",
   "metadata": {},
   "outputs": [],
   "source": [
    "vectorizer_path = open('vectorizer.pkl', 'wb')\n",
    "pickle.dump(transformer, vectorizer_path)\n"
   ]
  },
  {
   "cell_type": "code",
   "execution_count": 36,
   "id": "275d5d22",
   "metadata": {},
   "outputs": [],
   "source": [
    "tfidf_matrix=cv.fit_transform(movies['genres'])\n",
    "movie_user = df.pivot_table(index='userId',columns='title',values='rating')"
   ]
  },
  {
   "cell_type": "markdown",
   "id": "f2a01ab7",
   "metadata": {},
   "source": [
    "Here we use Cosine Similarity between movies and recommend."
   ]
  },
  {
   "cell_type": "code",
   "execution_count": 23,
   "id": "282a7c08",
   "metadata": {},
   "outputs": [],
   "source": [
    "cosine_sim = linear_kernel(tfidf_matrix, tfidf_matrix)"
   ]
  },
  {
   "cell_type": "code",
   "execution_count": 24,
   "id": "fbbe510f",
   "metadata": {},
   "outputs": [],
   "source": [
    "indices=pd.Series(movies.index,index=movies['title'])\n",
    "titles=movies['title']"
   ]
  },
  {
   "cell_type": "code",
   "execution_count": 20,
   "id": "9af5aeef",
   "metadata": {},
   "outputs": [],
   "source": [
    "def recommendations(title):\n",
    "    idx = indices[title]\n",
    "    sim_scores = list(enumerate(cosine_sim[idx]))\n",
    "    sim_scores = sorted(sim_scores, key=lambda x: x[1], reverse=True)\n",
    "    sim_scores = sim_scores[1:21]\n",
    "    movie_indices = [i[0] for i in sim_scores]\n",
    "    return titles.iloc[movie_indices]"
   ]
  },
  {
   "cell_type": "markdown",
   "id": "ed6f081f",
   "metadata": {},
   "source": [
    "Lets try to recommend movies to person who watched Turbo."
   ]
  },
  {
   "cell_type": "code",
   "execution_count": 21,
   "id": "b09c30e0",
   "metadata": {},
   "outputs": [
    {
     "data": {
      "text/plain": [
       "1815                                           Antz (1998)\n",
       "2496                                    Toy Story 2 (1999)\n",
       "2967        Adventures of Rocky and Bullwinkle, The (2000)\n",
       "3166                      Emperor's New Groove, The (2000)\n",
       "3811                                 Monsters, Inc. (2001)\n",
       "6617     DuckTales: The Movie - Treasure of the Lost La...\n",
       "6997                                      Wild, The (2006)\n",
       "7382                                Shrek the Third (2007)\n",
       "7987                        Tale of Despereaux, The (2008)\n",
       "9215     Asterix and the Vikings (Astérix et les Viking...\n",
       "9732                                          Turbo (2013)\n",
       "10052                                Boxtrolls, The (2014)\n",
       "1595                            Black Cauldron, The (1985)\n",
       "1675                         Lord of the Rings, The (1978)\n",
       "2696                 We're Back! A Dinosaur's Story (1993)\n",
       "3420                      Atlantis: The Lost Empire (2001)\n",
       "3535                          Land Before Time, The (1988)\n",
       "4314     Pokemon 4 Ever (a.k.a. Pokémon 4: The Movie) (...\n",
       "4799               Sinbad: Legend of the Seven Seas (2003)\n",
       "5539                         Phantom Tollbooth, The (1970)\n",
       "Name: title, dtype: object"
      ]
     },
     "execution_count": 21,
     "metadata": {},
     "output_type": "execute_result"
    }
   ],
   "source": [
    "recommendations('Turbo (2013)')"
   ]
  },
  {
   "cell_type": "markdown",
   "id": "6f5af275",
   "metadata": {},
   "source": [
    "Lets try to recommend movies to person who watched Turbo."
   ]
  },
  {
   "cell_type": "code",
   "execution_count": 107,
   "id": "6510165e",
   "metadata": {},
   "outputs": [
    {
     "data": {
      "text/plain": [
       "55                     Indian in the Cupboard, The (1995)\n",
       "112                     NeverEnding Story III, The (1994)\n",
       "817                       Escape to Witch Mountain (1975)\n",
       "1604            Darby O'Gill and the Little People (1959)\n",
       "1652                                  Return to Oz (1985)\n",
       "1716                        NeverEnding Story, The (1984)\n",
       "1717    NeverEnding Story II: The Next Chapter, The (1...\n",
       "1908                        Santa Claus: The Movie (1985)\n",
       "3817    Harry Potter and the Sorcerer's Stone (a.k.a. ...\n",
       "6471                            Magic in the Water (1995)\n",
       "6846    Chronicles of Narnia: The Lion, the Witch and ...\n",
       "7254                          Bridge to Terabithia (2007)\n",
       "7563                           Golden Compass, The (2007)\n",
       "7594          Water Horse: Legend of the Deep, The (2007)\n",
       "7727     Chronicles of Narnia: Prince Caspian, The (2008)\n",
       "8715                           Alice in Wonderland (1933)\n",
       "8795    Chronicles of Narnia: The Voyage of the Dawn T...\n",
       "9747                Percy Jackson: Sea of Monsters (2013)\n",
       "6764                                    MirrorMask (2005)\n",
       "1436                                Borrowers, The (1997)\n",
       "Name: title, dtype: object"
      ]
     },
     "execution_count": 107,
     "metadata": {},
     "output_type": "execute_result"
    }
   ],
   "source": [
    "recommendations('Jumanji (1995)')"
   ]
  },
  {
   "cell_type": "code",
   "execution_count": null,
   "id": "13c0270c",
   "metadata": {},
   "outputs": [],
   "source": []
  }
 ],
 "metadata": {
  "kernelspec": {
   "display_name": "Python 3",
   "language": "python",
   "name": "python3"
  },
  "language_info": {
   "codemirror_mode": {
    "name": "ipython",
    "version": 3
   },
   "file_extension": ".py",
   "mimetype": "text/x-python",
   "name": "python",
   "nbconvert_exporter": "python",
   "pygments_lexer": "ipython3",
   "version": "3.8.8"
  }
 },
 "nbformat": 4,
 "nbformat_minor": 5
}
